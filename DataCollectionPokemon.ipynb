{
  "nbformat": 4,
  "nbformat_minor": 5,
  "metadata": {
    "kernelspec": {
      "display_name": "Python 3",
      "language": "python",
      "name": "python3"
    },
    "language_info": {
      "codemirror_mode": {
        "name": "ipython",
        "version": 3
      },
      "file_extension": ".py",
      "mimetype": "text/x-python",
      "name": "python",
      "nbconvert_exporter": "python",
      "pygments_lexer": "ipython3",
      "version": "3.7.6"
    },
    "colab": {
      "name": "DataCollectionPokemon.ipynb",
      "provenance": [],
      "toc_visible": true
    }
  },
  "cells": [
    {
      "cell_type": "code",
      "metadata": {
        "id": "acting-exhibit"
      },
      "source": [
        "import requests\n",
        "\n",
        "URL=\"https://bulbapedia.bulbagarden.net/wiki/List_of_Pok%C3%A9mon_by_National_Pok%C3%A9dex_number\""
      ],
      "id": "acting-exhibit",
      "execution_count": null,
      "outputs": []
    },
    {
      "cell_type": "code",
      "metadata": {
        "id": "fancy-representation"
      },
      "source": [
        "page=requests.get(URL)"
      ],
      "id": "fancy-representation",
      "execution_count": null,
      "outputs": []
    },
    {
      "cell_type": "code",
      "metadata": {
        "id": "skilled-ordinary"
      },
      "source": [
        "from bs4 import BeautifulSoup\n",
        "\n",
        "soup = BeautifulSoup(page.content, 'html.parser')"
      ],
      "id": "skilled-ordinary",
      "execution_count": null,
      "outputs": []
    },
    {
      "cell_type": "code",
      "metadata": {
        "id": "returning-alcohol"
      },
      "source": [
        "poke_content=soup.find(id='mw-content-text')\n",
        "\n",
        "poke_tables=poke_content.find_all('table')"
      ],
      "id": "returning-alcohol",
      "execution_count": null,
      "outputs": []
    },
    {
      "cell_type": "code",
      "metadata": {
        "id": "awCHxNo89URJ"
      },
      "source": [
        "pokemon_json = []\n",
        "\n",
        "for x in range (1,9):\n",
        "  gen_list=poke_tables[x]\n",
        "  info_start=3\n",
        "  info_row=gen_list.contents[info_start]\n",
        "\n",
        "  for i in range(len(info_row.contents)):\n",
        "    for i in range(info_start, len(gen_list.contents), 2):\n",
        "        poke_info=gen_list.contents[i]\n",
        "        kdex=poke_info.contents[1].text.strip()\n",
        "        ndex=poke_info.contents[3].text.strip()\n",
        "        name=poke_info.contents[7].text.strip()\n",
        "        type1=poke_info.contents[9].text.strip()\n",
        "        url=poke_info.contents[7].a.get(\"href\")\n",
        "        url=\"https://bulbapedia.bulbagarden.net\" + url\n",
        "        if len(poke_info.contents) > 10:\n",
        "            type2=poke_info.contents[11].text.strip()\n",
        "            pokemon_json.append({\n",
        "                \"kdex\": kdex,\n",
        "                \"ndex\": ndex,\n",
        "                \"name\": name,\n",
        "                \"type1\": type1,\n",
        "                \"type2\": type2,\n",
        "                \"url\": url\n",
        "            })\n",
        "        else:\n",
        "            pokemon_json.append({\n",
        "                \"kdex\": kdex,\n",
        "                \"ndex\": ndex,\n",
        "                \"name\": name,\n",
        "                \"type1\": type1,\n",
        "                \"url\": url\n",
        "            })\n",
        "\n",
        "pokemon_json"
      ],
      "id": "awCHxNo89URJ",
      "execution_count": null,
      "outputs": []
    },
    {
      "cell_type": "code",
      "metadata": {
        "id": "KJYxaL_GIoqI"
      },
      "source": [
        "import json\n",
        "with open('/content/pokemon.json', 'w') as outfile:\n",
        "    json.dump(pokemon_json, outfile)"
      ],
      "id": "KJYxaL_GIoqI",
      "execution_count": null,
      "outputs": []
    }
  ]
}